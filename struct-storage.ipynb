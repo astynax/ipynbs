{
 "metadata": {
  "name": ""
 },
 "nbformat": 3,
 "nbformat_minor": 0,
 "worksheets": [
  {
   "cells": [
    {
     "cell_type": "code",
     "collapsed": false,
     "input": [
      "import io\n",
      "import struct"
     ],
     "language": "python",
     "metadata": {},
     "outputs": [],
     "prompt_number": 1
    },
    {
     "cell_type": "code",
     "collapsed": false,
     "input": [
      "class StructStorage(object):\n",
      "\n",
      "    def __init__(self, struct):\n",
      "        self._struct = struct\n",
      "        self._rec_size = struct.size\n",
      "        self._store = io.BytesIO()\n",
      "        self._count = 0\n",
      "\n",
      "    def __len__(self):\n",
      "        return self._count\n",
      "    \n",
      "    def _move_to(self, idx):\n",
      "        self._store.seek(idx * self._rec_size)\n",
      "        if idx >= self._count:\n",
      "            raise IndexError(\n",
      "                'Index out of range: %d > %d' % (idx, self._count))        \n",
      "\n",
      "    def __getitem__(self, idx):\n",
      "        self._move_to(idx)\n",
      "        return self._struct.unpack(\n",
      "            self._store.read(\n",
      "                self._rec_size))\n",
      "\n",
      "    def add(self, data):\n",
      "        record = self._struct.pack(*data)\n",
      "        pos = self._store.seek(0, 2)\n",
      "        idx = pos // self._rec_size\n",
      "        self._count = idx + 1\n",
      "        self._store.write(record)\n",
      "        return idx\n",
      "    \n",
      "    def remove(self, idx):\n",
      "        try:\n",
      "            self._move_to(idx + 1)\n",
      "        except IndexError:\n",
      "            tail = u\"\"\n",
      "        else:\n",
      "            tail = self._store.read()\n",
      "        self._move_to(idx)\n",
      "        self._store.truncate()\n",
      "        self._store.write(tail)\n",
      "        self._count -= 1\n",
      "\n",
      "    def __iter__(self):\n",
      "        if not self._count:\n",
      "            raise StopIteration()\n",
      "        self._store.seek(0, 0)\n",
      "        while True:\n",
      "            raw = self._store.read(self._rec_size)\n",
      "            if len(raw) < self._rec_size:\n",
      "                break\n",
      "            yield self._struct.unpack(raw)"
     ],
     "language": "python",
     "metadata": {},
     "outputs": [],
     "prompt_number": 2
    },
    {
     "cell_type": "code",
     "collapsed": false,
     "input": [
      "store = StructStorage(struct.Struct('BB6s'))"
     ],
     "language": "python",
     "metadata": {},
     "outputs": [],
     "prompt_number": 3
    },
    {
     "cell_type": "code",
     "collapsed": false,
     "input": [
      "store.add((10, 200, 'ff00ff'))"
     ],
     "language": "python",
     "metadata": {},
     "outputs": [
      {
       "metadata": {},
       "output_type": "pyout",
       "prompt_number": 4,
       "text": [
        "0L"
       ]
      }
     ],
     "prompt_number": 4
    },
    {
     "cell_type": "code",
     "collapsed": false,
     "input": [
      "store.add((0, 0, '000000'))"
     ],
     "language": "python",
     "metadata": {},
     "outputs": [
      {
       "metadata": {},
       "output_type": "pyout",
       "prompt_number": 5,
       "text": [
        "1L"
       ]
      }
     ],
     "prompt_number": 5
    },
    {
     "cell_type": "code",
     "collapsed": false,
     "input": [
      "list(store)"
     ],
     "language": "python",
     "metadata": {},
     "outputs": [
      {
       "metadata": {},
       "output_type": "pyout",
       "prompt_number": 6,
       "text": [
        "[(10, 200, 'ff00ff'), (0, 0, '000000')]"
       ]
      }
     ],
     "prompt_number": 6
    },
    {
     "cell_type": "code",
     "collapsed": false,
     "input": [
      "store.remove(0)"
     ],
     "language": "python",
     "metadata": {},
     "outputs": [],
     "prompt_number": 7
    },
    {
     "cell_type": "code",
     "collapsed": false,
     "input": [
      "list(store)"
     ],
     "language": "python",
     "metadata": {},
     "outputs": [
      {
       "metadata": {},
       "output_type": "pyout",
       "prompt_number": 8,
       "text": [
        "[(0, 0, '000000')]"
       ]
      }
     ],
     "prompt_number": 8
    }
   ],
   "metadata": {}
  }
 ]
}