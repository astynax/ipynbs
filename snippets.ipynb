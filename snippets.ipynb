{
 "metadata": {
  "name": "snippets"
 },
 "nbformat": 3,
 "nbformat_minor": 0,
 "worksheets": [
  {
   "cells": [
    {
     "cell_type": "code",
     "collapsed": false,
     "input": [
      "import itertools as it\n",
      "import more_itertools as mit"
     ],
     "language": "python",
     "metadata": {},
     "outputs": [],
     "prompt_number": 2
    },
    {
     "cell_type": "markdown",
     "metadata": {},
     "source": [
      "## \u041f\u0430\u0440\u0430 \u0445\u0435\u043b\u043f\u0435\u0440\u043e\u0432\n",
      "\n",
      "### \u0433\u0435\u043d\u0435\u0440\u0430\u0442\u043e\u0440 \u0441\u043b\u0443\u0447\u0430\u0439\u043d\u044b\u0445 \u0441\u0442\u0440\u043e\u043a\u043e\u0432\u044b\u0445 \u0434\u0430\u043d\u043d\u044b\u0445"
     ]
    },
    {
     "cell_type": "code",
     "collapsed": false,
     "input": [
      "from random import randrange, choice\n",
      "def generate(min_len=3, max_len=10):\n",
      "    rng = range(min_len, max_len + 1)\n",
      "    while True:\n",
      "        yield ''.join(\n",
      "            choice('abcdef0123456789')\n",
      "            for _ in xrange(randrange(min_len, max_len + 1))\n",
      "        )"
     ],
     "language": "python",
     "metadata": {},
     "outputs": [],
     "prompt_number": 3
    },
    {
     "cell_type": "heading",
     "level": 3,
     "metadata": {},
     "source": [
      "\u0432\u044b\u0432\u043e\u0434 \u0440\u0435\u0437\u0443\u043b\u044c\u0442\u0430\u0442\u0430 \u0441 \u043e\u0433\u0440\u0430\u043d\u0438\u0447\u0435\u043d\u0438\u0435\u043c \u043d\u0430 \u043a\u043e\u043b-\u0432\u043e \u044d\u043b\u0435\u043c\u0435\u043d\u0442\u043e\u0432"
     ]
    },
    {
     "cell_type": "code",
     "collapsed": false,
     "input": [
      "def p(iterable, upto=20):\n",
      "    print list(\n",
      "        it.islice(iterable, upto)\n",
      "        if upto else iterable)"
     ],
     "language": "python",
     "metadata": {},
     "outputs": [],
     "prompt_number": 4
    },
    {
     "cell_type": "markdown",
     "metadata": {},
     "source": [
      "\u043f\u0440\u043e\u0431\u0443\u0435\u043c"
     ]
    },
    {
     "cell_type": "code",
     "collapsed": false,
     "input": [
      "p(generate(), 3)"
     ],
     "language": "python",
     "metadata": {},
     "outputs": [
      {
       "output_type": "stream",
       "stream": "stdout",
       "text": [
        "['9258c79', '7181e', 'f2c8414344']\n"
       ]
      }
     ],
     "prompt_number": 5
    },
    {
     "cell_type": "markdown",
     "metadata": {},
     "source": [
      "\u0447\u0438\u0441\u043b\u0430 \u0424\u0438\u0431\u043e\u043d\u0430\u0447\u0447\u0438"
     ]
    },
    {
     "cell_type": "code",
     "collapsed": false,
     "input": [
      "p(it.imap(\n",
      "    lambda x: x[0],\n",
      "    mit.iterate(\n",
      "        lambda (a, b): (b, a + b),\n",
      "        (1, 1))))"
     ],
     "language": "python",
     "metadata": {},
     "outputs": [
      {
       "output_type": "stream",
       "stream": "stdout",
       "text": [
        "[1, 1, 2, 3, 5, 8, 13, 21, 34, 55, 89, 144, 233, 377, 610, 987, 1597, 2584, 4181, 6765]\n"
       ]
      }
     ],
     "prompt_number": 6
    },
    {
     "cell_type": "markdown",
     "metadata": {},
     "source": [
      "### \u041f\u0430\u0440\u043e\u0447\u043a\u0430 \"\u043c\u0430\u043a\u0440\u043e\u0441\u043e\u0432\" \u0434\u043b\u044f \u043f\u0440\u043e\u0442\u0430\u043b\u043a\u0438\u0432\u0430\u043d\u0438\u044f \u0440\u0435\u0437\u0443\u043b\u044c\u0442\u0430\u0442\u0430"
     ]
    },
    {
     "cell_type": "code",
     "collapsed": false,
     "input": [
      "do = lambda x, *tups: reduce(lambda x, tup: tup[0](x, *tup[1:]), tups, x)\n",
      "do_last = lambda x, *tups: reduce(lambda x, tup: tup[0](*(tup[1:] + [x])), tups, x)"
     ],
     "language": "python",
     "metadata": {},
     "outputs": [],
     "prompt_number": 17
    },
    {
     "cell_type": "code",
     "collapsed": false,
     "input": [
      "print do(\n",
      "    \" hello,  world   ?   \",\n",
      "    (str.strip,),\n",
      "    (str.split,),\n",
      "    (' '.join,),\n",
      "    (str.capitalize,),\n",
      "    (str.replace,'?','!')\n",
      ")"
     ],
     "language": "python",
     "metadata": {},
     "outputs": [
      {
       "output_type": "stream",
       "stream": "stdout",
       "text": [
        "Hello, world !\n"
       ]
      }
     ],
     "prompt_number": 48
    },
    {
     "cell_type": "code",
     "collapsed": false,
     "input": [
      "do_seq = lambda iterable, *tups: (do(x, *tups) for x in iterable)\n",
      "do_last_seq = lambda iterable, *tups: (do_last(x, *tups) for x in iterable)"
     ],
     "language": "python",
     "metadata": {},
     "outputs": [],
     "prompt_number": 18
    },
    {
     "cell_type": "code",
     "collapsed": false,
     "input": [
      "print list(do_seq(\n",
      "    xrange(10),\n",
      "    (lambda x: x + 10,),\n",
      "    (lambda x: x * 3,),\n",
      "    (str,)\n",
      "))"
     ],
     "language": "python",
     "metadata": {},
     "outputs": [
      {
       "output_type": "stream",
       "stream": "stdout",
       "text": [
        "['30', '33', '36', '39', '42', '45', '48', '51', '54', '57']\n"
       ]
      }
     ],
     "prompt_number": 42
    },
    {
     "cell_type": "markdown",
     "metadata": {},
     "source": [
      "## chunked"
     ]
    },
    {
     "cell_type": "markdown",
     "metadata": {},
     "source": [
      "**chunked** \u0432 \u0432\u0438\u0434\u0435 \u043a\u043e\u043c\u0431\u0438\u043d\u0430\u0446\u0438\u0438 \u0433\u043e\u0442\u043e\u0432\u044b\u0445 \u0444\u0443\u043d\u043a\u0446\u0438\u0439"
     ]
    },
    {
     "cell_type": "code",
     "collapsed": false,
     "input": [
      "chunked = lambda iterable, size: it.takewhile(bool, it.imap(list, mit.repeatfunc(it.islice, None, iter(iterable), size)))\n",
      "print list(chunked(xrange(10), 3))"
     ],
     "language": "python",
     "metadata": {},
     "outputs": [
      {
       "output_type": "stream",
       "stream": "stdout",
       "text": [
        "[[0, 1, 2], [3, 4, 5], [6, 7, 8], [9]]\n"
       ]
      }
     ],
     "prompt_number": 7
    },
    {
     "cell_type": "code",
     "collapsed": false,
     "input": [
      "chunked = lambda iterable, size: do_last(\n",
      "    iterable,\n",
      "    (iter,),\n",
      "    (lambda x: mit.repeatfunc(it.islice, None, x, 3),),\n",
      "    (it.imap, list),\n",
      "    (it.takewhile, bool),\n",
      ")\n",
      "print list(chunked(xrange(10), 3))"
     ],
     "language": "python",
     "metadata": {},
     "outputs": [
      {
       "output_type": "stream",
       "stream": "stdout",
       "text": [
        "[[0, 1, 2], [3, 4, 5], [6, 7, 8], [9]]\n"
       ]
      }
     ],
     "prompt_number": 9
    }
   ],
   "metadata": {}
  }
 ]
}