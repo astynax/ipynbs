{
 "metadata": {
  "name": ""
 },
 "nbformat": 3,
 "nbformat_minor": 0,
 "worksheets": [
  {
   "cells": [
    {
     "cell_type": "code",
     "collapsed": false,
     "input": [
      "classes = \"\"\"Rect::x0:int,y0:int,x1:int,y1:int,color:str\n",
      "Point::x:int,y:int,weight:float\"\"\""
     ],
     "language": "python",
     "metadata": {},
     "outputs": [],
     "prompt_number": 1
    },
    {
     "cell_type": "code",
     "collapsed": false,
     "input": [
      "class TypedAttr(object):\n",
      "    def __init__(self, attr_name, value_name, typ):\n",
      "        self._attr_name = attr_name\n",
      "        self._value_name = value_name\n",
      "        self._type = typ\n",
      "\n",
      "    def __get__(self, inst, cls):\n",
      "        assert inst\n",
      "        return inst.__dict__[self._value_name]\n",
      "    \n",
      "    def __set__(self, inst, value):\n",
      "        assert inst\n",
      "        if not isinstance(value, self._type):\n",
      "            raise TypeError(\n",
      "                'Value of attr \"%s\" must be %s' % (\n",
      "                    self._attr_name, self._type\n",
      "                ))\n",
      "        inst.__dict__[self._value_name] = value"
     ],
     "language": "python",
     "metadata": {},
     "outputs": [],
     "prompt_number": 2
    },
    {
     "cell_type": "code",
     "collapsed": false,
     "input": [
      "def parse(s):\n",
      "    name, attrs_str = s.split('::', 1)\n",
      "    name = name.strip()\n",
      "    types = {\n",
      "        'int': int,\n",
      "        'str': str,\n",
      "        'float': float,\n",
      "    }\n",
      "    attrs = {}\n",
      "    fields = []\n",
      "    names = []\n",
      "    for attr_str in attrs_str.split(','):\n",
      "        n, t = attr_str.split(':', 1)\n",
      "        n = n.strip().lower()\n",
      "        t = types[t.strip().lower()]\n",
      "        private_attr = '_%s__%s' % (name, n)\n",
      "        names.append(n)\n",
      "        fields.append(private_attr)\n",
      "        attrs[n] = TypedAttr(n, private_attr, t)\n",
      "\n",
      "    def __eq__(obj1, obj2):\n",
      "        return all(\n",
      "            obj1.__dict__[a] == obj2.__dict__[a]\n",
      "            for a in fields\n",
      "        )\n",
      "    \n",
      "    def __repr__(obj):\n",
      "        return '%s(%s)' % (\n",
      "            name,\n",
      "            ', '.join(\n",
      "                '%s=%r' % (n, obj.__dict__[f])\n",
      "                for f, n in zip(fields, names)\n",
      "            )\n",
      "        )\n",
      "    \n",
      "    init = \"lambda self, %s: (%s)\" % (\n",
      "        ', '.join(names),\n",
      "        ' or '.join(\n",
      "            'setattr(self, \"%s\", %s)' % (n, n)\n",
      "            for n in names\n",
      "        )\n",
      "    )\n",
      "    \n",
      "    attrs['__init__'] = eval(init, {}, attrs)\n",
      "    attrs['__eq__'] = __eq__\n",
      "    attrs['__str__'] = attrs['__repr__'] = __repr__\n",
      "    attrs['__slots__'] = names + fields + ['__dict__']\n",
      "    \n",
      "    return type(name, (object,), attrs)\n"
     ],
     "language": "python",
     "metadata": {},
     "outputs": [],
     "prompt_number": 3
    },
    {
     "cell_type": "code",
     "collapsed": false,
     "input": [
      "Rect, Point = map(parse, classes.split('\\n'))"
     ],
     "language": "python",
     "metadata": {},
     "outputs": [],
     "prompt_number": 4
    },
    {
     "cell_type": "code",
     "collapsed": false,
     "input": [
      "r = Rect(1, 0, 0, 0, \"ff00ff\")\n",
      "r2 = Rect(1, 0, 0, 2, \"\")\n",
      "p = Point(100, 100, 0.0)"
     ],
     "language": "python",
     "metadata": {},
     "outputs": [],
     "prompt_number": 10
    },
    {
     "cell_type": "code",
     "collapsed": false,
     "input": [
      "r==r2"
     ],
     "language": "python",
     "metadata": {},
     "outputs": [
      {
       "metadata": {},
       "output_type": "pyout",
       "prompt_number": 6,
       "text": [
        "False"
       ]
      }
     ],
     "prompt_number": 6
    },
    {
     "cell_type": "code",
     "collapsed": false,
     "input": [
      "r==Rect(1, 0, 0, 0, \"ff00ff\")"
     ],
     "language": "python",
     "metadata": {},
     "outputs": [
      {
       "metadata": {},
       "output_type": "pyout",
       "prompt_number": 7,
       "text": [
        "True"
       ]
      }
     ],
     "prompt_number": 7
    },
    {
     "cell_type": "code",
     "collapsed": false,
     "input": [
      "print p, r"
     ],
     "language": "python",
     "metadata": {},
     "outputs": [
      {
       "output_type": "stream",
       "stream": "stdout",
       "text": [
        "Point(x=100, y=100, weight=0.0) Rect(x0=1, y0=0, x1=0, y1=0, color='ff00ff')\n"
       ]
      }
     ],
     "prompt_number": 8
    },
    {
     "cell_type": "code",
     "collapsed": false,
     "input": [
      "Point(x=100, y=100, weight=0.0)"
     ],
     "language": "python",
     "metadata": {},
     "outputs": [
      {
       "metadata": {},
       "output_type": "pyout",
       "prompt_number": 11,
       "text": [
        "Point(x=100, y=100, weight=0.0)"
       ]
      }
     ],
     "prompt_number": 11
    }
   ],
   "metadata": {}
  }
 ]
}